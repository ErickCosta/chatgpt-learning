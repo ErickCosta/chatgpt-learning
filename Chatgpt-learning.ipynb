{
 "cells": [
  {
   "cell_type": "markdown",
   "id": "92a8310b-dfc5-4e40-bf5d-6b4eda4a6391",
   "metadata": {},
   "source": [
    "# Chatgpt Learning"
   ]
  },
  {
   "cell_type": "code",
   "execution_count": 2,
   "id": "29479f47-99ff-44e3-8509-2dd4f41c69bf",
   "metadata": {
    "tags": []
   },
   "outputs": [],
   "source": [
    "from configparser import ConfigParser"
   ]
  },
  {
   "cell_type": "code",
   "execution_count": null,
   "id": "e5b8c5b8-dcf7-4c4a-a54e-31b79a717d41",
   "metadata": {},
   "outputs": [],
   "source": []
  }
 ],
 "metadata": {
  "kernelspec": {
   "display_name": "Python 3 (ipykernel)",
   "language": "python",
   "name": "python3"
  },
  "language_info": {
   "codemirror_mode": {
    "name": "ipython",
    "version": 3
   },
   "file_extension": ".py",
   "mimetype": "text/x-python",
   "name": "python",
   "nbconvert_exporter": "python",
   "pygments_lexer": "ipython3",
   "version": "3.10.6"
  }
 },
 "nbformat": 4,
 "nbformat_minor": 5
}

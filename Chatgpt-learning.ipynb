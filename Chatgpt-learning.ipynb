{
 "cells": [
  {
   "cell_type": "markdown",
   "id": "92a8310b-dfc5-4e40-bf5d-6b4eda4a6391",
   "metadata": {},
   "source": [
    "# Chatgpt Learning"
   ]
  },
  {
   "cell_type": "markdown",
   "id": "31794680-2714-45a5-b864-ade4423bbed9",
   "metadata": {},
   "source": [
    "### Depencencies"
   ]
  },
  {
   "cell_type": "code",
   "execution_count": 1,
   "id": "29479f47-99ff-44e3-8509-2dd4f41c69bf",
   "metadata": {
    "tags": []
   },
   "outputs": [],
   "source": [
    "import openai\n",
    "import requests\n",
    "from configparser import ConfigParser"
   ]
  },
  {
   "cell_type": "markdown",
   "id": "6863b6d2-1d0d-4de2-bab6-549c7c61ba47",
   "metadata": {},
   "source": [
    "### Init credentials"
   ]
  },
  {
   "cell_type": "code",
   "execution_count": 2,
   "id": "e5b8c5b8-dcf7-4c4a-a54e-31b79a717d41",
   "metadata": {},
   "outputs": [],
   "source": [
    "parser = ConfigParser()\n",
    "parser.read('credentials.cfg')\n",
    "\n",
    "api_key = parser['open_ai']['api_key']\n",
    "organization_id = parser['open_ai']['organization_id']"
   ]
  },
  {
   "cell_type": "markdown",
   "id": "0bf5cb92-4108-403c-8934-4ae9951dc3ac",
   "metadata": {},
   "source": [
    "### Setup OpenAi configurations"
   ]
  },
  {
   "cell_type": "code",
   "execution_count": 3,
   "id": "5421b9a9-4b3a-4e0e-9405-69c597e0022c",
   "metadata": {
    "tags": []
   },
   "outputs": [],
   "source": [
    "openai.organization = organization_id\n",
    "openai.api_key = api_key"
   ]
  },
  {
   "cell_type": "markdown",
   "id": "719bec34-31b5-4d47-bbcd-91faff91bef6",
   "metadata": {},
   "source": [
    "### Request test"
   ]
  },
  {
   "cell_type": "code",
   "execution_count": 4,
   "id": "5c09d41f-68c7-461e-8148-a8a17b503c81",
   "metadata": {
    "tags": []
   },
   "outputs": [],
   "source": [
    "model_engine = 'text-davinci-003'\n",
    "max_tokens=256\n",
    "n=1\n",
    "temperature=0.0"
   ]
  },
  {
   "cell_type": "markdown",
   "id": "35085f8a-7083-407e-85b7-af240c4846c9",
   "metadata": {},
   "source": [
    "#### Film Sinopse"
   ]
  },
  {
   "cell_type": "code",
   "execution_count": 13,
   "id": "57e561e0-fed4-4c23-b6c0-ada5fdbc1ffd",
   "metadata": {
    "tags": []
   },
   "outputs": [
    {
     "name": "stdout",
     "output_type": "stream",
     "text": [
      "\n",
      "\n",
      "Sinopse: John McClane (Bruce Willis) é um policial de Nova York que viaja para Los Angeles para passar o Natal com sua esposa. Quando ela é sequestrada por um grupo de terroristas liderados por Hans Gruber (Alan Rickman), McClane decide agir sozinho para salvá-la. Ele enfrenta um a um os terroristas, usando sua astúcia e habilidade para sobreviver aos ataques.\n",
      "\n",
      "Faixa indicativa: 16 anos.\n"
     ]
    }
   ],
   "source": [
    "prompt = 'Qual a sinopse e a faixa indicativa do filme duro de matar?'\n",
    "\n",
    "completion = openai.Completion.create(\n",
    "    model=model_engine,\n",
    "    prompt=prompt,\n",
    "    max_tokens=max_tokens,\n",
    "    n=n,\n",
    "    temperature=temperature,\n",
    ")\n",
    "\n",
    "response = completion.choices[0].text\n",
    "print(response)"
   ]
  },
  {
   "cell_type": "code",
   "execution_count": 14,
   "id": "0bdc47e8-e735-4ecc-a256-2cf5c8653820",
   "metadata": {
    "tags": []
   },
   "outputs": [
    {
     "name": "stdout",
     "output_type": "stream",
     "text": [
      "\n",
      "\n",
      "Sinopse: Anabelle é uma boneca assombrada que foi criada pelo demônio para assombrar a vida de uma jovem casal. A boneca foi criada com o objetivo de destruir a família, mas ao invés disso, ela se torna um símbolo de amor e esperança.\n",
      "\n",
      "Faixa indicativa: 14 anos.\n"
     ]
    }
   ],
   "source": [
    "prompt = 'Qual a sinopse e a faixa indicativa do filme anabelle?'\n",
    "\n",
    "completion = openai.Completion.create(\n",
    "    model=model_engine,\n",
    "    prompt=prompt,\n",
    "    max_tokens=max_tokens,\n",
    "    n=n,\n",
    "    temperature=temperature,\n",
    ")\n",
    "\n",
    "response = completion.choices[0].text\n",
    "print(response)"
   ]
  },
  {
   "cell_type": "code",
   "execution_count": null,
   "id": "30203c2d-5d56-47dd-8082-206bdff14da2",
   "metadata": {},
   "outputs": [],
   "source": []
  }
 ],
 "metadata": {
  "kernelspec": {
   "display_name": "Python 3 (ipykernel)",
   "language": "python",
   "name": "python3"
  },
  "language_info": {
   "codemirror_mode": {
    "name": "ipython",
    "version": 3
   },
   "file_extension": ".py",
   "mimetype": "text/x-python",
   "name": "python",
   "nbconvert_exporter": "python",
   "pygments_lexer": "ipython3",
   "version": "3.10.6"
  }
 },
 "nbformat": 4,
 "nbformat_minor": 5
}
